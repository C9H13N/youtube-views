{
 "cells": [
  {
   "cell_type": "code",
   "execution_count": 3,
   "metadata": {},
   "outputs": [
    {
     "name": "stdout",
     "output_type": "stream",
     "text": [
      "INFO:tensorflow:Restoring parameters from description/best_test\n",
      "INFO:tensorflow:Restoring parameters from title/best_test\n",
      "INFO:tensorflow:Restoring parameters from description/best_test\n",
      "INFO:tensorflow:Restoring parameters from title/best_test\n",
      "Start vectorising descriptions\n",
      "{'category_channel_onehot': {'views': {'r2': 0.6709634359619938, 'pearson': (0.8243093249030001, 0.0)}, 'dislikes': {'r2': 0.6508071393609463, 'pearson': (0.8121035202847762, 0.0)}, 'likes': {'r2': 0.7745601843215063, 'pearson': (0.8857432143259307, 0.0)}}, 'pvdm': {'views': {'r2': 0.7020965677622668, 'pearson': (0.8423199471975417, 0.0)}, 'dislikes': {'r2': 0.6916598017819948, 'pearson': (0.8364293193581027, 0.0)}, 'likes': {'r2': 0.7969520415976405, 'pearson': (0.8975199584879328, 0.0)}}, 'category_onehot': {'views': {'r2': 0.06148634710357315, 'pearson': (0.24937503245485543, 1.2812129646003349e-82)}, 'dislikes': {'r2': 0.038282794525168806, 'pearson': (0.19699997202891248, 1.2241859669502537e-51)}, 'likes': {'r2': 0.12939026771857576, 'pearson': (0.36058855381084937, 6.176292918251319e-177)}}, 'channel_onehot': {'views': {'r2': 0.6673427194479935, 'pearson': (0.8226570329424977, 0.0)}, 'dislikes': {'r2': 0.646767462818505, 'pearson': (0.8103397520716628, 0.0)}, 'likes': {'r2': 0.767267414749133, 'pearson': (0.8831822710920889, 0.0)}}, 'tfidf': {'views': {'r2': 0.8749937292318464, 'pearson': (0.9389582761181592, 0.0)}, 'dislikes': {'r2': 0.8902770257694098, 'pearson': (0.9473528935428659, 0.0)}, 'likes': {'r2': 0.9237164623788178, 'pearson': (0.9639623772931484, 0.0)}}}\n"
     ]
    }
   ],
   "source": [
    "from evaluation import eval\n",
    "\n",
    "results = eval() # return result with score for each model\n",
    "print(results)"
   ]
  },
  {
   "cell_type": "markdown",
   "metadata": {},
   "source": [
    "For evaluation on valid.csv run script below\n",
    "For constructing train, test, valid files run data script"
   ]
  },
  {
   "cell_type": "markdown",
   "metadata": {},
   "source": [
    "python3 data.py"
   ]
  },
  {
   "cell_type": "markdown",
   "metadata": {},
   "source": [
    "For data only US data used, only english language title and description is applied\n",
    "I have troubles with parsing via pandas other files"
   ]
  }
 ],
 "metadata": {
  "kernelspec": {
   "display_name": "Python 3",
   "language": "python",
   "name": "python3"
  },
  "language_info": {
   "codemirror_mode": {
    "name": "ipython",
    "version": 3
   },
   "file_extension": ".py",
   "mimetype": "text/x-python",
   "name": "python",
   "nbconvert_exporter": "python",
   "pygments_lexer": "ipython3",
   "version": "3.5.2"
  }
 },
 "nbformat": 4,
 "nbformat_minor": 2
}
